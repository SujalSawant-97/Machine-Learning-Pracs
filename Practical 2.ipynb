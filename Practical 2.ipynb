{
 "cells": [
  {
   "cell_type": "code",
   "execution_count": 2,
   "id": "0222c13e-c84b-4115-bb8f-6b611ce00318",
   "metadata": {},
   "outputs": [],
   "source": [
    "import pandas as pd\n",
    "import numpy as np\n",
    "data = {\n",
    "    \"Name\": [\"Alice\", \"bob\", \"Charlie\", \"David\", \"Eve\"],\n",
    "    \"Age\" : [25, 30, 22, 29, 27],\n",
    "    \"Score\": [85, 90, 78, 88, 92]\n",
    "}\n",
    "df = pd.DataFrame(data)\n"
   ]
  },
  {
   "cell_type": "code",
   "execution_count": 3,
   "id": "5c35dbdf-3939-4071-8bf7-4936b3252bb4",
   "metadata": {},
   "outputs": [
    {
     "name": "stdout",
     "output_type": "stream",
     "text": [
      "DataFrame:\n",
      "       Name  Age  Score\n",
      "0    Alice   25     85\n",
      "1      bob   30     90\n",
      "2  Charlie   22     78\n",
      "3    David   29     88\n",
      "4      Eve   27     92\n"
     ]
    }
   ],
   "source": [
    "print(\"DataFrame:\\n\", df)"
   ]
  },
  {
   "cell_type": "code",
   "execution_count": 4,
   "id": "11f96d81-ca9b-4c39-b490-3df5a5ae3837",
   "metadata": {},
   "outputs": [
    {
     "name": "stdout",
     "output_type": "stream",
     "text": [
      "\n",
      "REtrieved Column - Age:\n",
      " 0    25\n",
      "1    30\n",
      "2    22\n",
      "3    29\n",
      "4    27\n",
      "Name: Age, dtype: int64\n"
     ]
    }
   ],
   "source": [
    "age_column = df[\"Age\"]\n",
    "print(\"\\nREtrieved Column - Age:\\n\", age_column)"
   ]
  },
  {
   "cell_type": "code",
   "execution_count": 5,
   "id": "d360251a-5be4-4b98-af0e-05a1e9c96a38",
   "metadata": {},
   "outputs": [
    {
     "name": "stdout",
     "output_type": "stream",
     "text": [
      "\n",
      "Summary Statistics of DataFrame:\n",
      "              Age      Score\n",
      "count   5.000000   5.000000\n",
      "mean   26.600000  86.600000\n",
      "std     3.209361   5.458938\n",
      "min    22.000000  78.000000\n",
      "25%    25.000000  85.000000\n",
      "50%    27.000000  88.000000\n",
      "75%    29.000000  90.000000\n",
      "max    30.000000  92.000000\n"
     ]
    }
   ],
   "source": [
    "summary = df.describe()\n",
    "print(\"\\nSummary Statistics of DataFrame:\\n\", summary)"
   ]
  },
  {
   "cell_type": "code",
   "execution_count": 6,
   "id": "eab8b953-2cd5-4f23-80ae-3755e5a76be3",
   "metadata": {},
   "outputs": [
    {
     "name": "stdout",
     "output_type": "stream",
     "text": [
      "\n",
      "Mean Values:\n",
      " Age      26.6\n",
      "Score    86.6\n",
      "dtype: float64\n",
      "\n",
      "Standard Deviation Values:\n",
      " Age      3.209361\n",
      "Score    5.458938\n",
      "dtype: float64\n"
     ]
    }
   ],
   "source": [
    "mean_values = df.select_dtypes(include=[np.number]).mean()\n",
    "std_values = df.select_dtypes(include=[np.number]).std()\n",
    "print(\"\\nMean Values:\\n\", mean_values)\n",
    "print(\"\\nStandard Deviation Values:\\n\", std_values)"
   ]
  },
  {
   "cell_type": "code",
   "execution_count": null,
   "id": "8835bad9-689f-4d8c-a7b7-cc7ee9e1a191",
   "metadata": {},
   "outputs": [],
   "source": []
  }
 ],
 "metadata": {
  "kernelspec": {
   "display_name": "Python 3 (ipykernel)",
   "language": "python",
   "name": "python3"
  },
  "language_info": {
   "codemirror_mode": {
    "name": "ipython",
    "version": 3
   },
   "file_extension": ".py",
   "mimetype": "text/x-python",
   "name": "python",
   "nbconvert_exporter": "python",
   "pygments_lexer": "ipython3",
   "version": "3.13.3"
  }
 },
 "nbformat": 4,
 "nbformat_minor": 5
}
