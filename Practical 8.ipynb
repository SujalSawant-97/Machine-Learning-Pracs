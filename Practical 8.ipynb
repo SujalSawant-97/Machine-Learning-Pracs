{
 "cells": [
  {
   "cell_type": "code",
   "execution_count": 1,
   "id": "4149d81b-bfc9-4928-835e-f04fb034af8e",
   "metadata": {},
   "outputs": [],
   "source": [
    "import pandas as pd\n",
    "import numpy as np\n",
    "from math import log2\n",
    "import pprint"
   ]
  },
  {
   "cell_type": "code",
   "execution_count": 2,
   "id": "c056ba92-61d4-49d5-a7b1-f2be76201a99",
   "metadata": {},
   "outputs": [],
   "source": [
    "data = pd.DataFrame([\n",
    "    ['Sunny','Hot','High','Weak','No'], \n",
    "    ['Sunny','Hot','High','Strong','No'],\n",
    "    ['Overcast','Hot','High','Weak','Yes'],\n",
    "    ['Rain','Mild','High','Weak','Yes'],\n",
    "    ['Rain','Cool','Normal','Weak','Yes'],\n",
    "    ['Rain','Cool','Normal','Weak','Yes'],\n",
    "    ['Overcast','Cool','Normal','Strong','Yes'],\n",
    "    ['Sunny','Mild','High','Weak','No'],\n",
    "    ['Sunny','Cool','Normal','Weak','Yes'],\n",
    "    ['Rain','Mild','Normal','Weak','Yes'],\n",
    "    ['Sunny','Mild','Normal','Strong','Yes'],\n",
    "    ['Overcast','Mild','High','Strong','Yes'],\n",
    "    ['Overcast','Mild','High','Strong','Yes'],\n",
    "    ['Rain','Mild','High','Strong','No']\n",
    "], columns=['Outlook','Tempreature','Humidity','Wind','PlayTennis'])"
   ]
  },
  {
   "cell_type": "code",
   "execution_count": 3,
   "id": "4a564b62-2871-4cac-a7b8-c1fce2c1e5ae",
   "metadata": {},
   "outputs": [],
   "source": [
    "def entropy(target_col):\n",
    "    values, counts = np.unique(target_col, return_counts=True)\n",
    "    return sum([-p * log2(p) for p in counts / counts.sum()])"
   ]
  },
  {
   "cell_type": "code",
   "execution_count": 4,
   "id": "3a647aec-3931-48fc-bc21-28da67796de0",
   "metadata": {},
   "outputs": [],
   "source": [
    "def info_gain(data, split_attribute_name, target_name=\"PlayTennis\"):\n",
    "    total_entropy = entropy(data[target_name])\n",
    "    vals, counts = np.unique(data[split_attribute_name], return_counts=True)\n",
    "\n",
    "    weighted_entropy = sum([\n",
    "        (counts[i] / sum(counts)) *\n",
    "        entropy(data[data[split_attribute_name] == vals[i]][target_name])\n",
    "        for i in range(len(vals))\n",
    "    ])\n",
    "\n",
    "    information_gain = total_entropy - weighted_entropy\n",
    "    return information_gain"
   ]
  },
  {
   "cell_type": "code",
   "execution_count": 5,
   "id": "441b1321-ad8c-4b18-a7a0-9afef00344cd",
   "metadata": {},
   "outputs": [],
   "source": [
    "def ID3(data, original_data, features, target_attribute_name=\"PlayTennis\", parent_node_class=None):\n",
    "    # If all target values are the same, return that value\n",
    "    if len(np.unique(data[target_attribute_name])) <= 1:\n",
    "        return np.unique(data[target_attribute_name])[0]\n",
    "    \n",
    "    # If dataset is empty, return the most common value in original dataset\n",
    "    elif len(data) == 0:\n",
    "        return np.unique(original_data[target_attribute_name])[\n",
    "            np.argmax(np.unique(original_data[target_attribute_name], return_counts=True)[1])\n",
    "        ]\n",
    "    \n",
    "    # If no features left, return the parent node's class\n",
    "    elif len(features) == 0:\n",
    "        return parent_node_class\n",
    "    \n",
    "    # Recursive case\n",
    "    else:\n",
    "        parent_node_class = np.unique(data[target_attribute_name])[\n",
    "            np.argmax(np.unique(data[target_attribute_name], return_counts=True)[1])\n",
    "        ]\n",
    "\n",
    "        item_values = [info_gain(data, feature, target_attribute_name) for feature in features]\n",
    "        best_feature_index = np.argmax(item_values)\n",
    "        best_feature = features[best_feature_index]\n",
    "\n",
    "        tree = {best_feature: {}}\n",
    "\n",
    "        for value in np.unique(data[best_feature]):\n",
    "            sub_data = data[data[best_feature] == value]\n",
    "            new_features = features[:best_feature_index] + features[best_feature_index + 1:]\n",
    "            subtree = ID3(sub_data, original_data, new_features, target_attribute_name, parent_node_class)\n",
    "            tree[best_feature][value] = subtree\n",
    "\n",
    "        return tree"
   ]
  },
  {
   "cell_type": "code",
   "execution_count": 6,
   "id": "1451dc1e-ce49-40eb-9fd5-3faea0a4069e",
   "metadata": {},
   "outputs": [
    {
     "name": "stdout",
     "output_type": "stream",
     "text": [
      "{'Humidity': {'High': {'Outlook': {'Overcast': 'Yes',\n",
      "                                   'Rain': {'Wind': {'Strong': 'No',\n",
      "                                                     'Weak': 'Yes'}},\n",
      "                                   'Sunny': 'No'}},\n",
      "              'Normal': 'Yes'}}\n"
     ]
    }
   ],
   "source": [
    "features = list(data.columns)\n",
    "features.remove(\"PlayTennis\")\n",
    "tree = ID3(data, data, features)\n",
    "pprint.pprint(tree)"
   ]
  },
  {
   "cell_type": "code",
   "execution_count": 7,
   "id": "72a7f285-0e4b-48d7-8321-6ac449140d04",
   "metadata": {},
   "outputs": [],
   "source": [
    "def predict(query, tree, default='Yes'):\n",
    "    for attr in query:\n",
    "        if attr in tree:\n",
    "            try:\n",
    "                result = tree[attr][query[attr]]\n",
    "            except:\n",
    "                return default\n",
    "            if isinstance(result, dict):\n",
    "                return predict(query, result)\n",
    "            else:\n",
    "                return result\n",
    "    return default"
   ]
  },
  {
   "cell_type": "code",
   "execution_count": 8,
   "id": "6e7f9f6a-3041-4690-ab3e-c7d011488af1",
   "metadata": {},
   "outputs": [
    {
     "name": "stdout",
     "output_type": "stream",
     "text": [
      "\n",
      "Predicted Output for sample is:  No\n"
     ]
    }
   ],
   "source": [
    "sample = {'Outlook':'Sunny','Tempreature':'Cool','Humidity':'High','Wind':'Strong'}\n",
    "prediction = predict(sample, tree)\n",
    "print(\"\\nPredicted Output for sample is: \",prediction)"
   ]
  }
 ],
 "metadata": {
  "kernelspec": {
   "display_name": "Python 3 (ipykernel)",
   "language": "python",
   "name": "python3"
  },
  "language_info": {
   "codemirror_mode": {
    "name": "ipython",
    "version": 3
   },
   "file_extension": ".py",
   "mimetype": "text/x-python",
   "name": "python",
   "nbconvert_exporter": "python",
   "pygments_lexer": "ipython3",
   "version": "3.13.3"
  }
 },
 "nbformat": 4,
 "nbformat_minor": 5
}
