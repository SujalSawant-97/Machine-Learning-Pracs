{
 "cells": [
  {
   "cell_type": "code",
   "execution_count": 2,
   "id": "be50fe87-6221-411b-a17e-6486641d77d4",
   "metadata": {},
   "outputs": [],
   "source": [
    "import numpy as np\n",
    "def sigmoid(x):\n",
    "    return 1/ (1+np.exp(-x))\n",
    "\n",
    "def sigmoid_derivative(x):\n",
    "    return x * (1 - x)\n",
    "\n",
    "def binary_cross_entropy(y_true, y_pred):\n",
    "    return -np.mean(y_true * np.log(y_pred + 1e-7)+ (1-y_true)* np.log(1-y_pred+1e-7))"
   ]
  },
  {
   "cell_type": "code",
   "execution_count": 3,
   "id": "a3a44046-c924-4379-8150-b7f71a18f003",
   "metadata": {},
   "outputs": [],
   "source": [
    "def train_neural_network(X, y, epochs = 10000, lr=0.1):\n",
    "    input_dim = X.shape[1]\n",
    "    weights = np.random.uniform(size=(input_dim,1))\n",
    "    bias = np.random.uniform(size=(1,))\n",
    "\n",
    "    for epoch in range (epochs):\n",
    "        linear_output = np.dot(X, weights) + bias\n",
    "        predictions = sigmoid(linear_output)\n",
    "\n",
    "        loss = binary_cross_entropy(y, predictions)\n",
    "\n",
    "        error = predictions - y\n",
    "        d_pred = error * sigmoid_derivative(predictions)\n",
    "\n",
    "        weights -= lr*np.dot(X.T, d_pred)\n",
    "        bias -= lr*np.sum(d_pred)\n",
    "\n",
    "        if epoch % 1000 == 0:\n",
    "            print(f\"Epoch{epoch}, Loss : {loss:.4f}\")\n",
    "\n",
    "    return weights, bias"
   ]
  },
  {
   "cell_type": "code",
   "execution_count": 4,
   "id": "dfb56afe-064e-4a27-9d22-fa6e365c90b1",
   "metadata": {},
   "outputs": [],
   "source": [
    "def predict(X, weights, bias):\n",
    "    return sigmoid(np.dot(X, weights)+bias) >= 0.5"
   ]
  },
  {
   "cell_type": "code",
   "execution_count": 5,
   "id": "d7089f79-6d41-4ad3-9e7f-602748c661e6",
   "metadata": {},
   "outputs": [
    {
     "name": "stdout",
     "output_type": "stream",
     "text": [
      "\n",
      "Training for AND gate: \n",
      "Epoch0, Loss : 1.0361\n",
      "Predictions for AND gate:\n",
      "[0 0 0 1]\n",
      "\n",
      "Training for OR gate: \n",
      "Epoch0, Loss : 0.4183\n",
      "Predictions for OR gate:\n",
      "[0 1 1 1]\n",
      "\n",
      "Training for NAND gate: \n",
      "Epoch0, Loss : 0.6679\n",
      "Predictions for NAND gate:\n",
      "[1 1 1 0]\n",
      "\n",
      "Training for NOR gate: \n",
      "Epoch0, Loss : 1.1332\n",
      "Predictions for NOR gate:\n",
      "[1 0 0 0]\n",
      "\n",
      "Training for XOR gate: \n",
      "Epoch0, Loss : 0.7961\n",
      "Predictions for XOR gate:\n",
      "[0 0 0 1]\n"
     ]
    }
   ],
   "source": [
    "X = np.array([[0,0],[0,1],[1,0],[1,1]])\n",
    "\n",
    "logic_gates = {\n",
    "    \"AND\": np.array([[0], [0], [0], [1]]),\n",
    "    \"OR\": np.array([[0], [1], [1], [1]]),\n",
    "    \"NAND\": np.array([[1], [1], [1], [0]]),\n",
    "    \"NOR\": np.array([[1], [0], [0], [0]]),\n",
    "    \"XOR\": np.array([[0], [1], [1], [0]])\n",
    "}\n",
    "\n",
    "for gate_name,y in logic_gates.items():\n",
    "    print(f\"\\nTraining for {gate_name} gate: \")\n",
    "    weights, bias = train_neural_network(X, y, epochs=1000, lr=0.1)\n",
    "    predictions = predict(X, weights, bias).astype(int)\n",
    "    print(f\"Predictions for {gate_name} gate:\\n{predictions.reshape(-1)}\")"
   ]
  },
  {
   "cell_type": "code",
   "execution_count": null,
   "id": "f4f3d81a-915b-49ab-9129-62bb292e5449",
   "metadata": {},
   "outputs": [],
   "source": []
  }
 ],
 "metadata": {
  "kernelspec": {
   "display_name": "Python 3 (ipykernel)",
   "language": "python",
   "name": "python3"
  },
  "language_info": {
   "codemirror_mode": {
    "name": "ipython",
    "version": 3
   },
   "file_extension": ".py",
   "mimetype": "text/x-python",
   "name": "python",
   "nbconvert_exporter": "python",
   "pygments_lexer": "ipython3",
   "version": "3.13.3"
  }
 },
 "nbformat": 4,
 "nbformat_minor": 5
}
