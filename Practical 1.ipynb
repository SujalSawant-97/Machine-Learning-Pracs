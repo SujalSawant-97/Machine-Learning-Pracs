{
 "cells": [
  {
   "cell_type": "code",
   "execution_count": 1,
   "id": "5ea3c275-3a5a-496c-8941-a6448d28552d",
   "metadata": {},
   "outputs": [],
   "source": [
    "def calculate_mean(numbers):\n",
    " return sum(numbers) / len(numbers)"
   ]
  },
  {
   "cell_type": "code",
   "execution_count": 2,
   "id": "edc0355f-8daf-44a6-b2ea-395e1846a967",
   "metadata": {},
   "outputs": [],
   "source": [
    "def calculate_median(numbers):\n",
    " numbers.sort()\n",
    " n = len(numbers)\n",
    " middle = n // 2\n",
    " return (numbers[middle - 1] + numbers[middle]) / 2 if n % 2 == 0 else numbers[middle]"
   ]
  },
  {
   "cell_type": "code",
   "execution_count": 3,
   "id": "ead5b0a4-3aa8-4235-935e-1d276080310b",
   "metadata": {},
   "outputs": [],
   "source": [
    "def calculate_standard_deviation(numbers):\n",
    " mean = calculate_mean(numbers)\n",
    " variance = sum((x - mean) ** 2 for x in numbers) / len(numbers)\n",
    " return variance ** 0.5\n"
   ]
  },
  {
   "cell_type": "code",
   "execution_count": 4,
   "id": "fa76e6fd-32cf-48d5-9c67-42c2ac236c55",
   "metadata": {},
   "outputs": [],
   "source": [
    "def calculate_mode(numbers):\n",
    " from collections import Counter\n",
    " frequency = Counter(numbers)\n",
    " max_count = max(frequency.values())\n",
    " return [key for key, value in frequency.items() if value == max_count]"
   ]
  },
  {
   "cell_type": "code",
   "execution_count": 5,
   "id": "c708bd9d-91a0-4679-b44d-6f4bc803e883",
   "metadata": {},
   "outputs": [
    {
     "name": "stdin",
     "output_type": "stream",
     "text": [
      "Enter numbers separated by spaces:  10 20 31 9 13 15 27 4\n"
     ]
    },
    {
     "name": "stdout",
     "output_type": "stream",
     "text": [
      "Mean: 16.125\n",
      "Median: 14.0\n",
      "Standard Deviation: 8.666566505831476\n",
      "Mode: [4, 9, 10, 13, 15, 20, 27, 31]\n"
     ]
    }
   ],
   "source": [
    "numbers = list(map(int, input(\"Enter numbers separated by spaces: \").split()))\n",
    "print(f\"Mean: {calculate_mean(numbers)}\")\n",
    "print(f\"Median: {calculate_median(numbers)}\")\n",
    "print(f\"Standard Deviation: {calculate_standard_deviation(numbers)}\")\n",
    "print(f\"Mode: {calculate_mode(numbers)}\")"
   ]
  }
 ],
 "metadata": {
  "kernelspec": {
   "display_name": "Python 3 (ipykernel)",
   "language": "python",
   "name": "python3"
  },
  "language_info": {
   "codemirror_mode": {
    "name": "ipython",
    "version": 3
   },
   "file_extension": ".py",
   "mimetype": "text/x-python",
   "name": "python",
   "nbconvert_exporter": "python",
   "pygments_lexer": "ipython3",
   "version": "3.13.3"
  }
 },
 "nbformat": 4,
 "nbformat_minor": 5
}
